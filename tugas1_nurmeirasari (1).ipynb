{
  "nbformat": 4,
  "nbformat_minor": 0,
  "metadata": {
    "colab": {
      "provenance": []
    },
    "kernelspec": {
      "name": "python3",
      "display_name": "Python 3"
    },
    "language_info": {
      "name": "python"
    }
  },
  "cells": [
    {
      "cell_type": "code",
      "source": [
        "data_nilai_mahasiswa = [\n",
        "    [214180321, 100, 35, 80, 90, 80],\n",
        "    [214180322, 70, 65, 70, 80, 75],\n",
        "    [214180323, 64, 63, 42, 35, 70],\n",
        "    [214180324, 80, 75, 60, 70, 65],\n",
        "    [214180325, 90, 84, 78, 69, 85]\n",
        "]"
      ],
      "metadata": {
        "id": "y8IWgs3Ltsrd"
      },
      "execution_count": 1,
      "outputs": []
    },
    {
      "cell_type": "code",
      "source": [
        "def hitung_nilai_akhir(data_nilai_mahasiswa):\n",
        "    hasil_output = []\n",
        "\n",
        "    for data_mhs in data_nilai_mahasiswa:\n",
        "        ID, nilai_harian_1, nilai_harian_2, nilai_harian_3, nilai_UTS, nilai_UAS = data_mhs\n",
        "        nilai_akhir = 0.3 * ((nilai_harian_1 + nilai_harian_2 + nilai_harian_3) / 3) + 0.3 * nilai_UTS + 0.4 * nilai_UAS\n",
        "\n",
        "        if nilai_akhir >= 80:\n",
        "            grade = \"A\"\n",
        "        elif 75 <= nilai_akhir < 80:\n",
        "            grade = \"B+\"\n",
        "        elif 70 <= nilai_akhir < 75:\n",
        "            grade = \"B\"\n",
        "        elif 65 <= nilai_akhir < 70:\n",
        "            grade = \"C+\"\n",
        "        elif 60 <= nilai_akhir < 65:\n",
        "            grade = \"C\"\n",
        "        elif 55 <= nilai_akhir < 60:\n",
        "            grade = \"D\"\n",
        "        else:\n",
        "            grade = \"E\"\n",
        "\n",
        "        result = f\"Mahasiswa dengan ID = {ID} mendapat nilai mata kuliah dengan grade {grade} dengan nilai akhir = {nilai_akhir}\"\n",
        "        hasil_output.append(result)\n",
        "\n",
        "    return hasil_output"
      ],
      "metadata": {
        "id": "UhM7vCkLtkum"
      },
      "execution_count": 2,
      "outputs": []
    },
    {
      "cell_type": "code",
      "source": [
        "hasil_output = hitung_nilai_akhir(data_nilai_mahasiswa)\n",
        "\n",
        "for result in hasil_output:\n",
        "    print(result)"
      ],
      "metadata": {
        "colab": {
          "base_uri": "https://localhost:8080/"
        },
        "id": "ndsiziQbtx76",
        "outputId": "0401e5ba-6528-40fa-c33a-2e5e1bafb268"
      },
      "execution_count": 3,
      "outputs": [
        {
          "output_type": "stream",
          "name": "stdout",
          "text": [
            "Mahasiswa dengan ID = 214180321 mendapat nilai mata kuliah dengan grade A dengan nilai akhir = 80.5\n",
            "Mahasiswa dengan ID = 214180322 mendapat nilai mata kuliah dengan grade B dengan nilai akhir = 74.5\n",
            "Mahasiswa dengan ID = 214180323 mendapat nilai mata kuliah dengan grade D dengan nilai akhir = 55.4\n",
            "Mahasiswa dengan ID = 214180324 mendapat nilai mata kuliah dengan grade C+ dengan nilai akhir = 68.5\n",
            "Mahasiswa dengan ID = 214180325 mendapat nilai mata kuliah dengan grade B+ dengan nilai akhir = 79.9\n"
          ]
        }
      ]
    },
    {
      "cell_type": "code",
      "source": [
        "print(hasil_output[0])\n"
      ],
      "metadata": {
        "colab": {
          "base_uri": "https://localhost:8080/"
        },
        "id": "q25sf6uTuhtH",
        "outputId": "c6c97da3-4bad-4d6b-e6be-beb409188b79"
      },
      "execution_count": 4,
      "outputs": [
        {
          "output_type": "stream",
          "name": "stdout",
          "text": [
            "Mahasiswa dengan ID = 214180321 mendapat nilai mata kuliah dengan grade A dengan nilai akhir = 80.5\n"
          ]
        }
      ]
    },
    {
      "cell_type": "code",
      "source": [
        "print(hasil_output[1])\n"
      ],
      "metadata": {
        "colab": {
          "base_uri": "https://localhost:8080/"
        },
        "id": "dlDlheUTuhru",
        "outputId": "5a34a3f8-1663-4af2-f893-e28dfdf4bc3f"
      },
      "execution_count": 5,
      "outputs": [
        {
          "output_type": "stream",
          "name": "stdout",
          "text": [
            "Mahasiswa dengan ID = 214180322 mendapat nilai mata kuliah dengan grade B dengan nilai akhir = 74.5\n"
          ]
        }
      ]
    },
    {
      "cell_type": "code",
      "source": [
        "print(hasil_output[2])\n"
      ],
      "metadata": {
        "colab": {
          "base_uri": "https://localhost:8080/"
        },
        "id": "kfT-pJcmupAL",
        "outputId": "e620b17a-afa2-41eb-affd-4d5fe7330319"
      },
      "execution_count": 8,
      "outputs": [
        {
          "output_type": "stream",
          "name": "stdout",
          "text": [
            "Mahasiswa dengan ID = 214180323 mendapat nilai mata kuliah dengan grade D dengan nilai akhir = 55.4\n"
          ]
        }
      ]
    },
    {
      "cell_type": "code",
      "source": [
        "print(hasil_output[3])"
      ],
      "metadata": {
        "colab": {
          "base_uri": "https://localhost:8080/"
        },
        "id": "7-DEV_9N0Kq3",
        "outputId": "f57ba88b-1323-40ef-f66b-690fd8be22ef"
      },
      "execution_count": 6,
      "outputs": [
        {
          "output_type": "stream",
          "name": "stdout",
          "text": [
            "Mahasiswa dengan ID = 214180324 mendapat nilai mata kuliah dengan grade C+ dengan nilai akhir = 68.5\n"
          ]
        }
      ]
    },
    {
      "cell_type": "code",
      "source": [
        "print(hasil_output[4])"
      ],
      "metadata": {
        "colab": {
          "base_uri": "https://localhost:8080/"
        },
        "id": "mZRqBNzs0QCG",
        "outputId": "65994043-752e-4c5a-f662-1c35c0b2bbb0"
      },
      "execution_count": 7,
      "outputs": [
        {
          "output_type": "stream",
          "name": "stdout",
          "text": [
            "Mahasiswa dengan ID = 214180325 mendapat nilai mata kuliah dengan grade B+ dengan nilai akhir = 79.9\n"
          ]
        }
      ]
    }
  ]
}